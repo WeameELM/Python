{
 "cells": [
  {
   "cell_type": "raw",
   "id": "77180d0d-97c2-4c07-a2e2-a50833598c32",
   "metadata": {},
   "source": [
    "2) Comparaison entre dico_reseau et cree_reseau : "
   ]
  },
  {
   "cell_type": "code",
   "execution_count": 19,
   "id": "df8507da-2ded-422b-a03b-cb1ae9eab390",
   "metadata": {},
   "outputs": [],
   "source": [
    "#POUR ILLUSTRER TOUT IL FAUT TOUTES LES FONCTIONS \n",
    "def cree_reseau(t_amis): \n",
    "    reseau = {}\n",
    "    for amis1, amis2 in t_amis: \n",
    "        if amis1 not in reseau : \n",
    "            reseau[amis1] = []\n",
    "        if amis2 not in reseau : \n",
    "            reseau[amis2] = []\n",
    "        reseau[amis1].append(amis2)\n",
    "        reseau[amis2].append(amis1)\n",
    "    return reseau\n",
    "        \n",
    "def liste_personne(reseau): \n",
    "    liste = []\n",
    "    for personne in reseau: \n",
    "        if personne not in liste : \n",
    "            liste.append(personne)\n",
    "    return liste\n",
    "    \n",
    "def sont_amis(reseau, personne1, personne2):\n",
    "    if personne2 not in reseau[personne1] : \n",
    "        return False \n",
    "    return True \n",
    "    \n",
    "def sont_amis_de(personne1, groupe, reseau): \n",
    "    for personne2 in groupe: \n",
    "        if not sont_amis(reseau,personne1,personne2) and personne2 != personne1: \n",
    "            return False \n",
    "    return True \n",
    "\n",
    "def est_commu(groupe, reseau): \n",
    "    for personne in groupe : \n",
    "        for personne2 in groupe : \n",
    "            if personne2!=personne and personne2 not in reseau[personne]: #il ne faut pas que la personne elle-même se compte dans ses amis sinon cela ne fonctionne pas \n",
    "                return False\n",
    "    return True \n",
    "\n",
    "        \n",
    "def commu(groupe, reseau) : \n",
    "    commu = []\n",
    "    for personne in groupe: \n",
    "        if sont_amis_de(personne, commu ,reseau): \n",
    "            commu.append(personne)\n",
    "    return commu  \n",
    "    \n",
    "    \n",
    "def echange(t,i,j): \n",
    "    tmp = t[i]\n",
    "    t[i] = t[j]\n",
    "    t[j] = tmp\n",
    "    return t \n",
    "    \n",
    "def nombre_amis(reseau, personne): \n",
    "    for amis in reseau : \n",
    "        if amis == personne : \n",
    "            nombre_amis = len(reseau[amis])\n",
    "    return nombre_amis\n",
    " \n",
    "\n",
    "def tri_popu(reseau, groupe): \n",
    "    n = len(groupe)\n",
    "    nt = 1 \n",
    "    while nt < n : \n",
    "        i = n - nt\n",
    "        while i < n and nombre_amis(reseau,groupe[i-1]) < nombre_amis(reseau,groupe[i]) : \n",
    "            echange(groupe,i-1, i)\n",
    "            i+=i\n",
    "        nt+=1\n",
    "    return groupe\n",
    "    \n",
    "def commu_dans_reseau(reseau): \n",
    "    les_plus_pop =  tri_popu(reseau,liste_personne(reseau))\n",
    "    les_plus_pop_commu = commu(les_plus_pop,reseau)\n",
    "    return les_plus_pop_commu\n",
    "\n",
    " \n",
    "def comu_dans_amis(reseau, personne): \n",
    "    commu = [personne]\n",
    "    ami_trie = tri_popu(reseau,reseau[personne])\n",
    "    for ami in ami_trie : \n",
    "        if sont_amis_de(ami,ami_trie,reseau): \n",
    "            commu.append(ami)\n",
    "    return commu\n",
    "\n",
    "def commu_max(reseau): \n",
    "    max_commu = []\n",
    "    for personne in reseau:\n",
    "        commu = comu_dans_amis(reseau,personne)\n",
    "        if len(commu) > len(max_commu) :\n",
    "            max_commu = commu\n",
    "    return max_commu"
   ]
  },
  {
   "cell_type": "raw",
   "id": "0618c38d-4238-4b23-981e-8ac2cd71ed0e",
   "metadata": {},
   "source": [
    "Les deux fonctions sont très ressemblantes étant donné qu'elles ont le même but. \n",
    "\n",
    "Pour la fonction cree_reseau : \n",
    "Elle est conçue pour créer le réseau en parcourant une seule fois un tableau du couples d'amis en une seule boucle. Elle ajoute chaque ami à la liste de l'autre, ce qui permet de construire le réseau de manière efficace.\n",
    "Sa complexité est de O(n).\n",
    "\n",
    "\n",
    "Pour la fonction dico_reseau : \n",
    "Cette fonction est conçue pour construire le réseau en cherchant les amis de chaque personne individuellement ce qui rend le travail plus long car elle fait 3 boucles en tout dont 2 imbriqués. Sa compléxite est aussi de O(n).\n"
   ]
  },
  {
   "cell_type": "code",
   "execution_count": 24,
   "id": "1cc7b379-b45c-4c91-b7ae-ae811518c445",
   "metadata": {},
   "outputs": [
    {
     "name": "stdout",
     "output_type": "stream",
     "text": [
      "Le temps d'éxecution de cree_reseau est 4.4345855712890625e-05 secondes\n",
      "Le temps d'éxecution de dico_reseau est 5.14984130859375e-05 secondes\n"
     ]
    }
   ],
   "source": [
    "import time \n",
    "\n",
    "t = [ [\"Alice\", \"Bob\"], [\"Bob\", \"Dan\"], [\"Carol\", \"Anne\"], [\"Anne\", \"Bob\"]]\n",
    "\n",
    "debut = time.time()\n",
    "dico_reseau(t)\n",
    "fin =time.time()\n",
    "\n",
    "\n",
    "debut2 = time.time()\n",
    "cree_reseau(t)\n",
    "fin2 =time. time()\n",
    "\n",
    "\n",
    "print(f\"Le temps d'éxecution de cree_reseau est {fin2 - debut2} secondes\")\n",
    "print(f\"Le temps d'éxecution de dico_reseau est {fin- debut} secondes\")\n"
   ]
  },
  {
   "cell_type": "raw",
   "id": "8b923d13-d2e7-4a10-8a3f-2f7acd862a7a",
   "metadata": {},
   "source": [
    "11)  Comparaison comu_dans_amis et comu_dans_reseau "
   ]
  },
  {
   "cell_type": "raw",
   "id": "316bb617-9376-4b0f-9e71-f12a9a52a8b9",
   "metadata": {},
   "source": [
    "Pour comu_dans_reseau : \n",
    "Cette fonction trie d'abord toutes les personnes par leur popularité puis construit la communauté en vérifiant les amitiés.\n",
    "Sa compléxité est de O(n²) car dans le pire des cas chaque personne doit être comparée avec tous les autres dans le groupe. \n",
    "\n",
    "\n",
    "Pour comu_dans_amis : \n",
    "Cette fonction prend une personne spécifique en paramètres et construit sa communauté en vérifiant si chaque ami est également ami avec tous les membres de la communauté actuelle.\n",
    "Sa compléxité est de O(n²) aussi car on appelle la fonction dans la fonction et donc on compare chaque amia avec chaque personne. "
   ]
  },
  {
   "cell_type": "code",
   "execution_count": 25,
   "id": "97bc3301-66e7-4a58-8bcc-382289118c19",
   "metadata": {},
   "outputs": [
    {
     "name": "stdout",
     "output_type": "stream",
     "text": [
      "Le temps de commu_dans_amis est 4.935264587402344e-05 secondes\n",
      "Le temps de commu_dans_reseau est 8.320808410644531e-05 secondes\n"
     ]
    }
   ],
   "source": [
    "friends = { \"Alice\" : [\"Bob\", \"Dan\"], \"Bob\" : [\"Alice\",\"Carl\", \"Dan\"], \"Carl\" :[\"Bob\"], \"Dan\" : [\"Alice\", \"Bob\"] }\n",
    "\n",
    "debut_1 = time.time()\n",
    "commu_dans_reseau(friends)\n",
    "fin_1 = time.time()\n",
    "\n",
    "\n",
    "debut_2 = time.time()\n",
    "comu_dans_amis(friends, \"Alice\")\n",
    "fin_2 = time.time()\n",
    "\n",
    "\n",
    "print(f\"Le temps de commu_dans_amis est {fin_2 - debut_2} secondes\")\n",
    "print(f\"Le temps de commu_dans_reseau est {fin_1 - debut_1} secondes\")\n"
   ]
  }
 ],
 "metadata": {
  "kernelspec": {
   "display_name": "Python 3 (ipykernel)",
   "language": "python",
   "name": "python3"
  },
  "language_info": {
   "codemirror_mode": {
    "name": "ipython",
    "version": 3
   },
   "file_extension": ".py",
   "mimetype": "text/x-python",
   "name": "python",
   "nbconvert_exporter": "python",
   "pygments_lexer": "ipython3",
   "version": "3.12.7"
  }
 },
 "nbformat": 4,
 "nbformat_minor": 5
}
